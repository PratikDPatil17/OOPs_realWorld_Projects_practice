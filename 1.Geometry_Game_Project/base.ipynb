{
 "cells": [
  {
   "cell_type": "code",
   "execution_count": 2,
   "metadata": {},
   "outputs": [
    {
     "ename": "ValueError",
     "evalue": "invalid literal for int() with base 10: ''",
     "output_type": "error",
     "traceback": [
      "\u001b[1;31m---------------------------------------------------------------------------\u001b[0m",
      "\u001b[1;31mValueError\u001b[0m                                Traceback (most recent call last)",
      "\u001b[1;32md:\\Python_Tutorials\\Python_OOPS_10_RealWorld_Projects\\base.ipynb Cell 1'\u001b[0m in \u001b[0;36m<cell line: 27>\u001b[1;34m()\u001b[0m\n\u001b[0;32m     <a href='vscode-notebook-cell:/d%3A/Python_Tutorials/Python_OOPS_10_RealWorld_Projects/base.ipynb#ch0000000?line=23'>24</a>\u001b[0m         \u001b[39melse\u001b[39;00m:\n\u001b[0;32m     <a href='vscode-notebook-cell:/d%3A/Python_Tutorials/Python_OOPS_10_RealWorld_Projects/base.ipynb#ch0000000?line=24'>25</a>\u001b[0m             \u001b[39mprint\u001b[39m(\u001b[39m\"\u001b[39m\u001b[39mOutside Triangle\u001b[39m\u001b[39m\"\u001b[39m)\n\u001b[1;32m---> <a href='vscode-notebook-cell:/d%3A/Python_Tutorials/Python_OOPS_10_RealWorld_Projects/base.ipynb#ch0000000?line=26'>27</a>\u001b[0m gi \u001b[39m=\u001b[39m Game_inputs()\n\u001b[0;32m     <a href='vscode-notebook-cell:/d%3A/Python_Tutorials/Python_OOPS_10_RealWorld_Projects/base.ipynb#ch0000000?line=28'>29</a>\u001b[0m gp \u001b[39m=\u001b[39m Game_process()\n\u001b[0;32m     <a href='vscode-notebook-cell:/d%3A/Python_Tutorials/Python_OOPS_10_RealWorld_Projects/base.ipynb#ch0000000?line=29'>30</a>\u001b[0m ans \u001b[39m=\u001b[39m gp\u001b[39m.\u001b[39mcheck_co_ordinate()\n",
      "\u001b[1;32md:\\Python_Tutorials\\Python_OOPS_10_RealWorld_Projects\\base.ipynb Cell 1'\u001b[0m in \u001b[0;36mGame_inputs.__init__\u001b[1;34m(self)\u001b[0m\n\u001b[0;32m      <a href='vscode-notebook-cell:/d%3A/Python_Tutorials/Python_OOPS_10_RealWorld_Projects/base.ipynb#ch0000000?line=2'>3</a>\u001b[0m \u001b[39mdef\u001b[39;00m \u001b[39m__init__\u001b[39m(\u001b[39mself\u001b[39m):\n\u001b[1;32m----> <a href='vscode-notebook-cell:/d%3A/Python_Tutorials/Python_OOPS_10_RealWorld_Projects/base.ipynb#ch0000000?line=3'>4</a>\u001b[0m     \u001b[39mself\u001b[39m\u001b[39m.\u001b[39mx1 \u001b[39m=\u001b[39m \u001b[39mint\u001b[39;49m(\u001b[39minput\u001b[39;49m(\u001b[39m\"\u001b[39;49m\u001b[39mEnter x1 : \u001b[39;49m\u001b[39m\"\u001b[39;49m))\n\u001b[0;32m      <a href='vscode-notebook-cell:/d%3A/Python_Tutorials/Python_OOPS_10_RealWorld_Projects/base.ipynb#ch0000000?line=4'>5</a>\u001b[0m     \u001b[39mself\u001b[39m\u001b[39m.\u001b[39mx2 \u001b[39m=\u001b[39m \u001b[39mint\u001b[39m(\u001b[39minput\u001b[39m(\u001b[39m\"\u001b[39m\u001b[39mEnter x2 : \u001b[39m\u001b[39m\"\u001b[39m))\n\u001b[0;32m      <a href='vscode-notebook-cell:/d%3A/Python_Tutorials/Python_OOPS_10_RealWorld_Projects/base.ipynb#ch0000000?line=5'>6</a>\u001b[0m     \u001b[39mself\u001b[39m\u001b[39m.\u001b[39my1 \u001b[39m=\u001b[39m \u001b[39mint\u001b[39m(\u001b[39minput\u001b[39m(\u001b[39m\"\u001b[39m\u001b[39mEnter y1 : \u001b[39m\u001b[39m\"\u001b[39m))\n",
      "\u001b[1;31mValueError\u001b[0m: invalid literal for int() with base 10: ''"
     ]
    }
   ],
   "source": [
    "from typing import List\n",
    "class Game_inputs:\n",
    "    def __init__(self):\n",
    "        self.x1 = int(input(\"Enter x1 : \"))\n",
    "        self.x2 = int(input(\"Enter x2 : \"))\n",
    "        self.y1 = int(input(\"Enter y1 : \"))\n",
    "        self.y2 = int(input(\"Enter y2 : \"))\n",
    "\n",
    "    \n",
    "class Game_process:\n",
    "    def check_co_ordinate(self, list : List[Game_inputs], coord:Game_inputs):\n",
    "        if coord.x1 > 3 and coord.x2 < 6:\n",
    "            if coord.y1 > 2 and coord.y2 < 6:\n",
    "                return True\n",
    "\n",
    "        return False\n",
    "\n",
    "class Ans(Game_process):\n",
    "    def __init__(self, obj:Game_process):\n",
    "        self.obj = obj\n",
    "    def ans(self):\n",
    "        if self.obj.check_co_ordinate():\n",
    "            print(\"Inside Triangle\")\n",
    "        else:\n",
    "            print(\"Outside Triangle\")\n",
    "\n",
    "gi = Game_inputs()\n",
    "\n",
    "gp = Game_process()\n",
    "ans = gp.check_co_ordinate()\n",
    "\n",
    "an = Ans(gp)"
   ]
  },
  {
   "cell_type": "markdown",
   "metadata": {},
   "source": []
  }
 ],
 "metadata": {
  "kernelspec": {
   "display_name": "Python 3.10.5 64-bit",
   "language": "python",
   "name": "python3"
  },
  "language_info": {
   "codemirror_mode": {
    "name": "ipython",
    "version": 3
   },
   "file_extension": ".py",
   "mimetype": "text/x-python",
   "name": "python",
   "nbconvert_exporter": "python",
   "pygments_lexer": "ipython3",
   "version": "3.10.5"
  },
  "orig_nbformat": 4,
  "vscode": {
   "interpreter": {
    "hash": "a9cff5a362bc38ef45d817ae74b1af54d6a076e3d773891282bce078b815ba34"
   }
  }
 },
 "nbformat": 4,
 "nbformat_minor": 2
}
